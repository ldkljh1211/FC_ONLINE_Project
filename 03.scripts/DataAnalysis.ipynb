{
 "cells": [
  {
   "cell_type": "code",
   "execution_count": 44,
   "metadata": {},
   "outputs": [],
   "source": [
    "import pandas as pd\n",
    "\n",
    "# 선수들 정보 파일 불러오기\n",
    "data = pd.read_csv('C:\\\\Users\\\\이진호\\\\Desktop\\\\Programming\\\\프로젝트\\\\MyProject1\\\\players_info.csv')\n",
    "df = data.copy()"
   ]
  },
  {
   "cell_type": "code",
   "execution_count": 45,
   "metadata": {},
   "outputs": [
    {
     "data": {
      "text/html": [
       "<div>\n",
       "<style scoped>\n",
       "    .dataframe tbody tr th:only-of-type {\n",
       "        vertical-align: middle;\n",
       "    }\n",
       "\n",
       "    .dataframe tbody tr th {\n",
       "        vertical-align: top;\n",
       "    }\n",
       "\n",
       "    .dataframe thead th {\n",
       "        text-align: right;\n",
       "    }\n",
       "</style>\n",
       "<table border=\"1\" class=\"dataframe\">\n",
       "  <thead>\n",
       "    <tr style=\"text-align: right;\">\n",
       "      <th></th>\n",
       "      <th>이름</th>\n",
       "      <th>발(아이콘)</th>\n",
       "      <th>평점(아이콘)</th>\n",
       "      <th>발(모먼트)</th>\n",
       "      <th>평점(모먼트)</th>\n",
       "      <th>약발 상향여부</th>\n",
       "      <th>평점 변화</th>\n",
       "    </tr>\n",
       "  </thead>\n",
       "  <tbody>\n",
       "    <tr>\n",
       "      <th>0</th>\n",
       "      <td>펠레</td>\n",
       "      <td>10</td>\n",
       "      <td>8.6</td>\n",
       "      <td>10</td>\n",
       "      <td>6.8</td>\n",
       "      <td>0</td>\n",
       "      <td>-1.8</td>\n",
       "    </tr>\n",
       "    <tr>\n",
       "      <th>1</th>\n",
       "      <td>지네딘 지단</td>\n",
       "      <td>10</td>\n",
       "      <td>9.2</td>\n",
       "      <td>10</td>\n",
       "      <td>8.5</td>\n",
       "      <td>0</td>\n",
       "      <td>-0.7</td>\n",
       "    </tr>\n",
       "    <tr>\n",
       "      <th>2</th>\n",
       "      <td>호나우두</td>\n",
       "      <td>10</td>\n",
       "      <td>8.2</td>\n",
       "      <td>10</td>\n",
       "      <td>6.4</td>\n",
       "      <td>0</td>\n",
       "      <td>-1.8</td>\n",
       "    </tr>\n",
       "    <tr>\n",
       "      <th>3</th>\n",
       "      <td>요한 크루이프</td>\n",
       "      <td>10</td>\n",
       "      <td>8.5</td>\n",
       "      <td>10</td>\n",
       "      <td>8.2</td>\n",
       "      <td>0</td>\n",
       "      <td>-0.3</td>\n",
       "    </tr>\n",
       "    <tr>\n",
       "      <th>4</th>\n",
       "      <td>게르트 뮐러</td>\n",
       "      <td>10</td>\n",
       "      <td>8.6</td>\n",
       "      <td>10</td>\n",
       "      <td>8.7</td>\n",
       "      <td>0</td>\n",
       "      <td>0.1</td>\n",
       "    </tr>\n",
       "    <tr>\n",
       "      <th>5</th>\n",
       "      <td>로타어 마테우스</td>\n",
       "      <td>10</td>\n",
       "      <td>9.2</td>\n",
       "      <td>10</td>\n",
       "      <td>9.4</td>\n",
       "      <td>0</td>\n",
       "      <td>0.2</td>\n",
       "    </tr>\n",
       "    <tr>\n",
       "      <th>6</th>\n",
       "      <td>마르코 반바스텐</td>\n",
       "      <td>9</td>\n",
       "      <td>8.6</td>\n",
       "      <td>10</td>\n",
       "      <td>8.1</td>\n",
       "      <td>1</td>\n",
       "      <td>-0.5</td>\n",
       "    </tr>\n",
       "    <tr>\n",
       "      <th>7</th>\n",
       "      <td>페렌츠 푸스카스</td>\n",
       "      <td>8</td>\n",
       "      <td>8.4</td>\n",
       "      <td>9</td>\n",
       "      <td>8.4</td>\n",
       "      <td>1</td>\n",
       "      <td>0.0</td>\n",
       "    </tr>\n",
       "    <tr>\n",
       "      <th>8</th>\n",
       "      <td>파올로 말디니</td>\n",
       "      <td>9</td>\n",
       "      <td>8.8</td>\n",
       "      <td>10</td>\n",
       "      <td>8.8</td>\n",
       "      <td>1</td>\n",
       "      <td>0.0</td>\n",
       "    </tr>\n",
       "    <tr>\n",
       "      <th>9</th>\n",
       "      <td>로베르토 바조</td>\n",
       "      <td>10</td>\n",
       "      <td>8.2</td>\n",
       "      <td>10</td>\n",
       "      <td>9.2</td>\n",
       "      <td>0</td>\n",
       "      <td>1.0</td>\n",
       "    </tr>\n",
       "  </tbody>\n",
       "</table>\n",
       "</div>"
      ],
      "text/plain": [
       "         이름  발(아이콘)  평점(아이콘)  발(모먼트)  평점(모먼트)  약발 상향여부  평점 변화\n",
       "0        펠레      10      8.6      10      6.8        0   -1.8\n",
       "1    지네딘 지단      10      9.2      10      8.5        0   -0.7\n",
       "2      호나우두      10      8.2      10      6.4        0   -1.8\n",
       "3   요한 크루이프      10      8.5      10      8.2        0   -0.3\n",
       "4    게르트 뮐러      10      8.6      10      8.7        0    0.1\n",
       "5  로타어 마테우스      10      9.2      10      9.4        0    0.2\n",
       "6  마르코 반바스텐       9      8.6      10      8.1        1   -0.5\n",
       "7  페렌츠 푸스카스       8      8.4       9      8.4        1    0.0\n",
       "8   파올로 말디니       9      8.8      10      8.8        1    0.0\n",
       "9   로베르토 바조      10      8.2      10      9.2        0    1.0"
      ]
     },
     "execution_count": 45,
     "metadata": {},
     "output_type": "execute_result"
    }
   ],
   "source": [
    "# 기존 데이터프레임에 '약발 상향여부'와 '평점 변화' 컬럼을 새로 추가가\n",
    "df['약발 상향여부'] = df.apply(lambda x:1 if x['발(아이콘)'] < x['발(모먼트)'] else 0, axis=1)\n",
    "df['평점 변화'] = df['평점(모먼트)'] - df['평점(아이콘)']\n",
    "df.head(10)"
   ]
  },
  {
   "cell_type": "code",
   "execution_count": 46,
   "metadata": {},
   "outputs": [
    {
     "data": {
      "text/plain": [
       "Text(0.5, 1.0, '평점 변화 이상치')"
      ]
     },
     "execution_count": 46,
     "metadata": {},
     "output_type": "execute_result"
    },
    {
     "data": {
      "image/png": "[encoded data removed]",
      "text/plain": [
       "<Figure size 400x300 with 1 Axes>"
      ]
     },
     "metadata": {},
     "output_type": "display_data"
    }
   ],
   "source": [
    "import seaborn as sns\n",
    "import matplotlib.pyplot as plt\n",
    "\n",
    "# 한글 폰트 설정\n",
    "plt.rcParams['font.family'] = 'Malgun Gothic'\n",
    "# 마이너스 부호 깨짐 방지\n",
    "plt.rcParams['axes.unicode_minus'] = False\n",
    "\n",
    "# Boxplot 시각화 (이상치 탐지)\n",
    "plt.figure(figsize=(4, 3))\n",
    "sns.boxplot(y=df['평점 변화'])\n",
    "plt.title('평점 변화 이상치')"
   ]
  },
  {
   "cell_type": "code",
   "execution_count": 47,
   "metadata": {},
   "outputs": [],
   "source": [
    "# 이상치 제거 (4분위수 이용)\n",
    "column = '평점 변화'\n",
    "\n",
    "Q1 = df[column].quantile(0.25)\n",
    "Q3 = df[column].quantile(0.75)\n",
    "IQR = Q3 - Q1\n",
    "\n",
    "lower_bound = Q1 - 1.5 * IQR\n",
    "upper_bound = Q3 + 1.5 * IQR\n",
    "\n",
    "df = df[(df[column] >= lower_bound) & (df[column] <= upper_bound)]"
   ]
  },
  {
   "cell_type": "code",
   "execution_count": 48,
   "metadata": {},
   "outputs": [],
   "source": [
    "# 약발 상향 여부에 따른 평점 변화 리스트 제작\n",
    "score_changes_upgraded = df[df['약발 상향여부'] == 1]['평점 변화'].tolist()\n",
    "score_changes_not_upgraded = df[df['약발 상향여부'] == 0]['평점 변화'].tolist()"
   ]
  },
  {
   "cell_type": "code",
   "execution_count": 52,
   "metadata": {},
   "outputs": [],
   "source": [
    "# 결과를 나타내는 함수\n",
    "def show_result(statistic, pvalue, alpha):\n",
    "    print(f\"statistic: {statistic}, pvalue: {pvalue}\")\n",
    "\n",
    "    if pvalue < alpha:\n",
    "        print(\"귀무가설 기각 -> 약발이 상향된 선수들의 평점 변화가 더 큽니다.\")\n",
    "    else:   \n",
    "        print(\"귀무가설 채택 -> 약발이 상향된 선수들의 평점 변화가 더 크지 않습니다.\")"
   ]
  },
  {
   "cell_type": "code",
   "execution_count": 53,
   "metadata": {},
   "outputs": [
    {
     "name": "stdout",
     "output_type": "stream",
     "text": [
      "약발이 상향된 선수들의 평점 변화에 대한 정규성 검정 결과: ShapiroResult(statistic=0.9308459162712097, pvalue=0.0191301628947258)\n",
      "약발 변화가 없는 선수들의 평점 변화에 대한 정규성 검정 결과: ShapiroResult(statistic=0.9924017786979675, pvalue=0.9599701762199402)\n",
      "------------------------------------------------------------------------------------------------\n",
      "\n",
      "두 그룹 선수들의 평점 변화가 정규성을 따르지 않습니다.\n",
      "Mann-Whitney U 검정 수행\n",
      "statistic: 1664.0, pvalue: 0.006242219699448645\n",
      "귀무가설 기각 -> 약발이 상향된 선수들의 평점 변화가 더 큽니다.\n"
     ]
    }
   ],
   "source": [
    "from scipy.stats import shapiro, ttest_ind, mannwhitneyu\n",
    "\n",
    "shapiro_upgraded = shapiro(score_changes_upgraded)\n",
    "shapiro_not_upgraded = shapiro(score_changes_not_upgraded)\n",
    "\n",
    "print(\"약발이 상향된 선수들의 평점 변화에 대한 정규성 검정 결과:\", shapiro_upgraded)\n",
    "print(\"약발 변화가 없는 선수들의 평점 변화에 대한 정규성 검정 결과:\", shapiro_not_upgraded)\n",
    "print('------------------------------------------------------------------------------------------------\\n')\n",
    "\n",
    "alpha = 0.05  # 유의수준 5%\n",
    "\n",
    "if (shapiro_upgraded.pvalue > alpha) and (shapiro_not_upgraded.pvalue > alpha):\n",
    "    print(\"두 그룹 선수들의 평점 변화가 정규성을 따릅니다.\")\n",
    "    print(\"독립 표본 t-검정 수행\")\n",
    "    t_stat, p_value = ttest_ind(score_changes_upgraded, score_changes_not_upgraded, alternative='greater')\n",
    "    show_result(t_stat, p_value, alpha)\n",
    "\n",
    "else:\n",
    "    print(\"두 그룹 선수들의 평점 변화가 정규성을 따르지 않습니다.\")\n",
    "    print(\"Mann-Whitney U 검정 수행\")\n",
    "    u_stat, p_value = mannwhitneyu(score_changes_upgraded, score_changes_not_upgraded, alternative='greater')\n",
    "    show_result(u_stat, p_value, alpha)   "
   ]
  },
  {
   "cell_type": "code",
   "execution_count": 51,
   "metadata": {},
   "outputs": [],
   "source": [
    "# 새롭게 수정된 데이터프레임을 csv 파일로 저장\n",
    "df.to_csv('C:\\\\Users\\\\이진호\\\\Desktop\\\\Programming\\\\프로젝트\\\\MyProject1\\\\players_data.csv', encoding='utf-8-sig', index = 0)"
   ]
  }
 ],
 "metadata": {
  "kernelspec": {
   "display_name": "base",
   "language": "python",
   "name": "python3"
  },
  "language_info": {
   "codemirror_mode": {
    "name": "ipython",
    "version": 3
   },
   "file_extension": ".py",
   "mimetype": "text/x-python",
   "name": "python",
   "nbconvert_exporter": "python",
   "pygments_lexer": "ipython3",
   "version": "3.11.7"
  }
 },
 "nbformat": 4,
 "nbformat_minor": 2
}
