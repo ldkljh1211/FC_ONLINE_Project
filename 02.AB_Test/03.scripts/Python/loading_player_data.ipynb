{
 "cells": [
  {
   "cell_type": "code",
   "execution_count": 1,
   "id": "c60f6658",
   "metadata": {},
   "outputs": [],
   "source": [
    "import requests \n",
    "from tqdm.notebook import tqdm\n",
    "\n",
    "import pandas as pd\n",
    "pd.set_option('display.max_columns', None)\n",
    "\n",
    "import warnings\n",
    "warnings.filterwarnings('ignore')"
   ]
  },
  {
   "cell_type": "code",
   "execution_count": null,
   "id": "6535103b",
   "metadata": {},
   "outputs": [],
   "source": [
    "def user_df(api_key, access, match_type):\n",
    "    headers = {'accept': 'application/json',\n",
    "               'x-nxopen-api-key': api_key}\n",
    "    # 매치기록 조회를 위한 파라미터\n",
    "    match_params = {'matchtype' : match_type, 'offset' : 0, 'limit' : 100}\n",
    "    match_record_url = requests.get(f'https://open.api.nexon.com/fconline/v1/user/match?ouid={access}', params=match_params, headers = headers)\n",
    "\n",
    "    match_record_parsed_data = match_record_url.json()\n",
    "    match_user = pd.DataFrame()\n",
    "    \n",
    "    for match_id in tqdm(match_record_parsed_data):\n",
    "        # 매치 상세정보 조회를 위한 코드\n",
    "        match_detail_url = requests.get(f'https://open.api.nexon.com/fconline/v1/match-detail?matchid={match_id}', headers = headers)\n",
    "        match_detail_parsed_data = match_detail_url.json()\n",
    "        temp = pd.DataFrame(match_detail_parsed_data)\n",
    "        match_user = pd.concat([match_user, temp], axis = 0)\n",
    " \n",
    "    # DTO 정보 리스트 형태로 만들기\n",
    "    ouid_list = [i.get('ouid') for i in match_user['matchInfo']]\n",
    "    nickname_list = [i.get('nickname') for i in match_user['matchInfo']]\n",
    "    player_list = [i.get('player') for i in match_user['matchInfo']]\n",
    "\n",
    "    # 선수 플레이 정보를 위한 데이터프레임 생성\n",
    "    matchInfo_data = match_user.iloc[:, :3].reset_index(drop=True)\n",
    "    ouid_data = pd.DataFrame(ouid_list)\n",
    "    nickname_data = pd.DataFrame(nickname_list)\n",
    "    player_data = pd.DataFrame(player_list)\n",
    "\n",
    "    ouid_data.rename(columns={0:'ouid'}, inplace=True)\n",
    "    nickname_data.rename(columns={0:'nickname'}, inplace=True)\n",
    "\n",
    "    user = pd.concat([matchInfo_data, ouid_data, nickname_data, player_data], axis = 1)\n",
    "    return user"
   ]
  },
  {
   "cell_type": "code",
   "execution_count": null,
   "id": "f2892c02",
   "metadata": {},
   "outputs": [
    {
     "data": {
      "application/vnd.jupyter.widget-view+json": {
       "model_id": "56777ebeb3e345348181a4557c85e62b",
       "version_major": 2,
       "version_minor": 0
      },
      "text/plain": [
       "  0%|          | 0/100 [00:00<?, ?it/s]"
      ]
     },
     "metadata": {},
     "output_type": "display_data"
    }
   ],
   "source": [
    "api_key = \"api_key\"\n",
    "access = \"access\"\n",
    "match_type = 52\n",
    "\n",
    "player = user_df(api_key, access, match_type)\n",
    "player.to_csv('C:\\\\Users\\\\이진호\\\\Desktop\\\\Programming\\\\프로젝트\\\\MyProject2\\\\player.csv', index=False, encoding='euc-kr')"
   ]
  }
 ],
 "metadata": {
  "kernelspec": {
   "display_name": "base",
   "language": "python",
   "name": "python3"
  },
  "language_info": {
   "codemirror_mode": {
    "name": "ipython",
    "version": 3
   },
   "file_extension": ".py",
   "mimetype": "text/x-python",
   "name": "python",
   "nbconvert_exporter": "python",
   "pygments_lexer": "ipython3",
   "version": "3.11.7"
  }
 },
 "nbformat": 4,
 "nbformat_minor": 5
}
