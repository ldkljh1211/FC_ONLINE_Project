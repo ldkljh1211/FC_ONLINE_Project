{
 "cells": [
  {
   "cell_type": "code",
   "execution_count": 1,
   "id": "c60f6658",
   "metadata": {},
   "outputs": [],
   "source": [
    "import requests \n",
    "from tqdm.notebook import tqdm\n",
    "\n",
    "import pandas as pd\n",
    "pd.set_option('display.max_columns', None)\n",
    "\n",
    "import warnings\n",
    "warnings.filterwarnings('ignore')"
   ]
  },
  {
   "cell_type": "code",
   "execution_count": null,
   "id": "e958b015",
   "metadata": {},
   "outputs": [],
   "source": [
    "def user_df(api_key, access, match_type):\n",
    "    headers = {'accept': 'application/json',\n",
    "               'x-nxopen-api-key': api_key}\n",
    "    # 매치기록 조회를 위한 파라미터\n",
    "    match_params = {'matchtype' : match_type, 'offset' : 0, 'limit' : 100}\n",
    "    match_record_url = requests.get(f'https://open.api.nexon.com/fconline/v1/user/match?ouid={access}', params=match_params, headers = headers)\n",
    "\n",
    "    match_record_parsed_data = match_record_url.json()\n",
    "    match_user = pd.DataFrame()\n",
    "    \n",
    "    for match_id in tqdm(match_record_parsed_data):\n",
    "        # 매치 상세정보 조회를 위한 코드\n",
    "        match_detail_url = requests.get(f'https://open.api.nexon.com/fconline/v1/match-detail?matchid={match_id}', headers = headers)\n",
    "        match_detail_parsed_data = match_detail_url.json()\n",
    "        temp = pd.DataFrame(match_detail_parsed_data)\n",
    "        match_user = pd.concat([match_user, temp], axis = 0)\n",
    " \n",
    "    # DTO 정보 리스트 형태로 만들기\n",
    "    ouid_list = [i.get('ouid') for i in match_user['matchInfo']]\n",
    "    nickname_list = [i.get('nickname') for i in match_user['matchInfo']]\n",
    "    matchDetail_list = [i.get('matchDetail') for i in match_user['matchInfo']]\n",
    "    shoot_list = [i.get('shoot') for i in match_user['matchInfo']]\n",
    "    pass_list = [i.get('pass') for i in match_user['matchInfo']]\n",
    "    defence_list = [i.get('defence') for i in match_user['matchInfo']]\n",
    "\n",
    "    # 매치 정보, 상세정보, 슛, 패스, 수비 등의 정보를 위한 데이터프레임 생성\n",
    "    matchInfo_data = match_user.iloc[:, :3].reset_index(drop=True)\n",
    "    ouid_data = pd.DataFrame(ouid_list)\n",
    "    nickname_data = pd.DataFrame(nickname_list)\n",
    "    matchDetail_data = pd.DataFrame(matchDetail_list)\n",
    "    shoot_data = pd.DataFrame(shoot_list)\n",
    "    pass_data = pd.DataFrame(pass_list)\n",
    "    defence_data = pd.DataFrame(defence_list)\n",
    "\n",
    "    ouid_data.rename(columns={0:'ouid'}, inplace=True)\n",
    "    nickname_data.rename(columns={0:'nickname'}, inplace=True)\n",
    "\n",
    "    user = pd.concat([matchInfo_data, ouid_data, nickname_data, matchDetail_data, shoot_data, pass_data, defence_data], axis = 1)\n",
    "    return user"
   ]
  },
  {
   "cell_type": "code",
   "execution_count": null,
   "id": "eeb13a9c",
   "metadata": {},
   "outputs": [
    {
     "data": {
      "application/vnd.jupyter.widget-view+json": {
       "model_id": "3aeaec67b1374337a5576621a368b5de",
       "version_major": 2,
       "version_minor": 0
      },
      "text/plain": [
       "  0%|          | 0/100 [00:00<?, ?it/s]"
      ]
     },
     "metadata": {},
     "output_type": "display_data"
    }
   ],
   "source": [
    "api_key = \"api_key\"\n",
    "access = \"access\"\n",
    "match_type = 52\n",
    "\n",
    "match = user_df(api_key, access, match_type)\n",
    "match.to_csv('C:\\\\Users\\\\이진호\\\\Desktop\\\\Programming\\\\프로젝트\\\\MyProject2\\\\match.csv', index=False, encoding='euc-kr')"
   ]
  }
 ],
 "metadata": {
  "kernelspec": {
   "display_name": "base",
   "language": "python",
   "name": "python3"
  },
  "language_info": {
   "codemirror_mode": {
    "name": "ipython",
    "version": 3
   },
   "file_extension": ".py",
   "mimetype": "text/x-python",
   "name": "python",
   "nbconvert_exporter": "python",
   "pygments_lexer": "ipython3",
   "version": "3.11.7"
  }
 },
 "nbformat": 4,
 "nbformat_minor": 5
}
